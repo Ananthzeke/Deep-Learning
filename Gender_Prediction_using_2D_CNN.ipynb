{
  "cells": [
    {
      "cell_type": "markdown",
      "metadata": {
        "id": "view-in-github",
        "colab_type": "text"
      },
      "source": [
        "<a href=\"https://colab.research.google.com/github/Ananthzeke/Deep-Learning/blob/main/Gender_Prediction_using_2D_CNN.ipynb\" target=\"_parent\"><img src=\"https://colab.research.google.com/assets/colab-badge.svg\" alt=\"Open In Colab\"/></a>"
      ]
    },
    {
      "cell_type": "code",
      "execution_count": null,
      "metadata": {
        "id": "K0nsHWhYd6kd"
      },
      "outputs": [],
      "source": [
        "import tensorflow as tf\n",
        "import tensorflow.keras.layers as tfl\n",
        "import os\n",
        "import numpy as np\n"
      ]
    },
    {
      "cell_type": "code",
      "execution_count": null,
      "metadata": {
        "id": "1puRDUT8enfY",
        "colab": {
          "base_uri": "https://localhost:8080/"
        },
        "outputId": "a01beef9-987d-4054-b3c5-2e1ea2ceb8d5"
      },
      "outputs": [
        {
          "output_type": "stream",
          "name": "stdout",
          "text": [
            "Downloading data from https://data.vision.ee.ethz.ch/cvl/rrothe/imdb-wiki/static/wiki_crop.tar\n",
            "811319296/811315200 [==============================] - 30s 0us/step\n",
            "811327488/811315200 [==============================] - 30s 0us/step\n"
          ]
        }
      ],
      "source": [
        "url = \"https://data.vision.ee.ethz.ch/cvl/rrothe/imdb-wiki/static/wiki_crop.tar\"\n",
        "\n",
        "dataset = tf.keras.utils.get_file(\n",
        "    \"wiki_crop\", url,\n",
        "    untar=True, cache_dir='.',\n",
        "    cache_subdir=''\n",
        ")\n",
        "dataset_dir = os.path.join(os.path.dirname(dataset), 'wiki_crop')\n",
        "\n",
        "dataset = tf.keras.utils.get_file(\n",
        "    \"wiki_crop\", url,\n",
        "    untar=True, cache_dir='.',\n",
        "    cache_subdir=''\n",
        ")\n",
        "dataset_dir = os.path.join(os.path.dirname(dataset), 'wiki_crop')"
      ]
    },
    {
      "cell_type": "code",
      "execution_count": null,
      "metadata": {
        "id": "9gFm2qxrfhrR"
      },
      "outputs": [],
      "source": [
        "import scipy.io\n",
        "# extract data from wiki.mat\n",
        "mat = scipy.io.loadmat(os.path.join(dataset_dir,'wiki.mat'))"
      ]
    },
    {
      "cell_type": "code",
      "execution_count": null,
      "metadata": {
        "colab": {
          "base_uri": "https://localhost:8080/"
        },
        "id": "SqNidA93fkZ1",
        "outputId": "44c2cf9d-1574-4180-d9b2-238ee598b6bc"
      },
      "outputs": [
        {
          "output_type": "stream",
          "name": "stdout",
          "text": [
            "True\n"
          ]
        }
      ],
      "source": [
        "if True in np.isnan(mat['wiki']['gender'][0][0][0]):\n",
        "  print(True)\n"
      ]
    },
    {
      "cell_type": "code",
      "execution_count": null,
      "metadata": {
        "colab": {
          "base_uri": "https://localhost:8080/"
        },
        "id": "0vU39GNkfk0T",
        "outputId": "e522cb5b-accd-4e7e-e9a9-caa2b7f2e695"
      },
      "outputs": [
        {
          "output_type": "execute_result",
          "data": {
            "text/plain": [
              "array([1., 1., 1., ..., 1., 1., 0.])"
            ]
          },
          "metadata": {},
          "execution_count": 7
        }
      ],
      "source": [
        "mat['wiki']['gender'][0][0][0]"
      ]
    },
    {
      "cell_type": "code",
      "execution_count": null,
      "metadata": {
        "colab": {
          "base_uri": "https://localhost:8080/"
        },
        "id": "lIwBhrUUf0Fb",
        "outputId": "f2de98a5-4d79-426f-8e7e-e756e7906b61"
      },
      "outputs": [
        {
          "output_type": "execute_result",
          "data": {
            "text/plain": [
              "array([array(['17/10000217_1981-05-05_2009.jpg'], dtype='<U31'),\n",
              "       array(['48/10000548_1925-04-04_1964.jpg'], dtype='<U31'),\n",
              "       array(['12/100012_1948-07-03_2008.jpg'], dtype='<U29'), ...,\n",
              "       array(['09/9998109_1972-12-27_2013.jpg'], dtype='<U30'),\n",
              "       array(['00/9999400_1981-12-13_2011.jpg'], dtype='<U30'),\n",
              "       array(['80/999980_1954-06-11_2008.jpg'], dtype='<U29')],\n",
              "      dtype=object)"
            ]
          },
          "metadata": {},
          "execution_count": 8
        }
      ],
      "source": [
        "mat[\"wiki\"][\"full_path\"][0][0][0]"
      ]
    },
    {
      "cell_type": "code",
      "execution_count": null,
      "metadata": {
        "id": "dverM_Ju5hex"
      },
      "outputs": [],
      "source": [
        "Nan_removed_indices=np.where(np.isnan(mat['wiki']['gender'][0][0][0])==False)[0]"
      ]
    },
    {
      "cell_type": "code",
      "execution_count": null,
      "metadata": {
        "id": "esSqqGIxgacS"
      },
      "outputs": [],
      "source": [
        "gender=mat['wiki']['gender'][0][0][0][Nan_removed_indices]"
      ]
    },
    {
      "cell_type": "code",
      "execution_count": null,
      "metadata": {
        "colab": {
          "base_uri": "https://localhost:8080/"
        },
        "id": "KngkeJNjg6yQ",
        "outputId": "d23ddd00-233e-4e53-ee46-ba31227fa4f6"
      },
      "outputs": [
        {
          "output_type": "stream",
          "name": "stdout",
          "text": [
            "Removed Null values\n"
          ]
        }
      ],
      "source": [
        "if True not  in np.isnan(gender):print('Removed Null values')\n",
        " "
      ]
    },
    {
      "cell_type": "code",
      "execution_count": null,
      "metadata": {
        "id": "0ULLz7DtgNX4"
      },
      "outputs": [],
      "source": [
        "file_path = np.vectorize(lambda x : os.path.join(dataset_dir,x[0]))(\n",
        "    mat[\"wiki\"][\"full_path\"][0][0][0][Nan_removed_indices]\n",
        ")"
      ]
    },
    {
      "cell_type": "code",
      "execution_count": null,
      "metadata": {
        "colab": {
          "base_uri": "https://localhost:8080/"
        },
        "id": "_LhcumQmgVwT",
        "outputId": "d70100ee-d641-4fd5-fa96-19f5ed10bb0e"
      },
      "outputs": [
        {
          "output_type": "execute_result",
          "data": {
            "text/plain": [
              "array(['./wiki_crop/17/10000217_1981-05-05_2009.jpg',\n",
              "       './wiki_crop/48/10000548_1925-04-04_1964.jpg',\n",
              "       './wiki_crop/12/100012_1948-07-03_2008.jpg', ...,\n",
              "       './wiki_crop/09/9998109_1972-12-27_2013.jpg',\n",
              "       './wiki_crop/00/9999400_1981-12-13_2011.jpg',\n",
              "       './wiki_crop/80/999980_1954-06-11_2008.jpg'], dtype='<U49')"
            ]
          },
          "metadata": {},
          "execution_count": 13
        }
      ],
      "source": [
        "file_path"
      ]
    },
    {
      "cell_type": "code",
      "execution_count": null,
      "metadata": {
        "id": "hOoANVpwgXu6"
      },
      "outputs": [],
      "source": [
        "file_gender_ds=tf.data.Dataset.from_tensor_slices((file_path,gender))"
      ]
    },
    {
      "cell_type": "code",
      "execution_count": null,
      "metadata": {
        "id": "-S-MbdLQh2B0"
      },
      "outputs": [],
      "source": [
        "def parse_function(filename, label):\n",
        "    image_string = tf.io.read_file(filename)\n",
        "    image_decoded = tf.io.decode_jpeg(image_string,channels=1)\n",
        "    image = tf.image.resize(image_decoded, [256, 256])/256\n",
        "    return image, tf.expand_dims(label,0)"
      ]
    },
    {
      "cell_type": "code",
      "execution_count": null,
      "metadata": {
        "id": "WpOwKTM7h8ss"
      },
      "outputs": [],
      "source": [
        "image_gender_ds = file_gender_ds.map(parse_function).shuffle(seed=2,buffer_size=64)\n"
      ]
    },
    {
      "cell_type": "code",
      "execution_count": null,
      "metadata": {
        "id": "VmEHXKcNiIEk"
      },
      "outputs": [],
      "source": [
        "dataset_size = image_gender_ds.cardinality().numpy()"
      ]
    },
    {
      "cell_type": "code",
      "execution_count": null,
      "metadata": {
        "id": "uhhtDFbZiQTy"
      },
      "outputs": [],
      "source": [
        "AUTOTUNE = tf.data.AUTOTUNE\n",
        "train_ds = image_gender_ds.take(dataset_size*.6).batch(128).prefetch(AUTOTUNE)\n",
        "val_ds = image_gender_ds.skip(dataset_size*.6).take(dataset_size*.2).batch(128).prefetch(AUTOTUNE)\n",
        "test_ds = image_gender_ds.skip(dataset_size*.8).take(dataset_size*.2).batch(128).prefetch(AUTOTUNE)"
      ]
    },
    {
      "cell_type": "code",
      "execution_count": null,
      "metadata": {
        "colab": {
          "base_uri": "https://localhost:8080/"
        },
        "id": "z2FwZ3jQpS1h",
        "outputId": "2a9530d2-add8-40f4-8d9a-77293804d5ef"
      },
      "outputs": [
        {
          "output_type": "execute_result",
          "data": {
            "text/plain": [
              "<PrefetchDataset element_spec=(TensorSpec(shape=(None, 256, 256, 1), dtype=tf.float32, name=None), TensorSpec(shape=(None, 1), dtype=tf.float64, name=None))>"
            ]
          },
          "metadata": {},
          "execution_count": 19
        }
      ],
      "source": [
        "train_ds"
      ]
    },
    {
      "cell_type": "code",
      "execution_count": null,
      "metadata": {
        "id": "Ud46KMCsif7S"
      },
      "outputs": [],
      "source": [
        "model = tf.keras.Sequential([\n",
        "    tfl.Conv2D(32,(5,5),padding=\"same\",activation=\"relu\",input_shape=(256,256,1)),\n",
        "    tfl.MaxPool2D((4,4),strides = 2),\n",
        "    tfl.Conv2D(32,(5,5),padding = \"valid\",activation=\"relu\"),\n",
        "    tfl.MaxPool2D((4,4),strides = 4),\n",
        "    tfl.Conv2D(64,(5,5),padding = \"valid\",activation=\"relu\"),\n",
        "    tfl.MaxPool2D((4,4),strides = 2),\n",
        "    tfl.Conv2D(128,(3,3),padding= \"valid\",activation=\"relu\",),\n",
        "    tfl.MaxPool2D((2,2),strides = 2),\n",
        "    tfl.Conv2D(256,(1,1),padding= \"valid\",activation=\"relu\",),\n",
        "    tfl.MaxPool2D((2,2),strides = 2),\n",
        "    tfl.Flatten(),\n",
        "    tfl.Dense(64,activation=\"relu\"),\n",
        "    tfl.Dense(1)                             \n",
        "])"
      ]
    },
    {
      "cell_type": "code",
      "execution_count": null,
      "metadata": {
        "colab": {
          "base_uri": "https://localhost:8080/"
        },
        "id": "x5SvCu25kfEj",
        "outputId": "1abf7296-cacc-4497-92eb-81f963dff82c"
      },
      "outputs": [
        {
          "output_type": "stream",
          "name": "stdout",
          "text": [
            "Model: \"sequential\"\n",
            "_________________________________________________________________\n",
            " Layer (type)                Output Shape              Param #   \n",
            "=================================================================\n",
            " conv2d (Conv2D)             (None, 256, 256, 32)      832       \n",
            "                                                                 \n",
            " max_pooling2d (MaxPooling2D  (None, 127, 127, 32)     0         \n",
            " )                                                               \n",
            "                                                                 \n",
            " conv2d_1 (Conv2D)           (None, 123, 123, 32)      25632     \n",
            "                                                                 \n",
            " max_pooling2d_1 (MaxPooling  (None, 30, 30, 32)       0         \n",
            " 2D)                                                             \n",
            "                                                                 \n",
            " conv2d_2 (Conv2D)           (None, 26, 26, 64)        51264     \n",
            "                                                                 \n",
            " max_pooling2d_2 (MaxPooling  (None, 12, 12, 64)       0         \n",
            " 2D)                                                             \n",
            "                                                                 \n",
            " conv2d_3 (Conv2D)           (None, 10, 10, 128)       73856     \n",
            "                                                                 \n",
            " max_pooling2d_3 (MaxPooling  (None, 5, 5, 128)        0         \n",
            " 2D)                                                             \n",
            "                                                                 \n",
            " conv2d_4 (Conv2D)           (None, 5, 5, 256)         33024     \n",
            "                                                                 \n",
            " max_pooling2d_4 (MaxPooling  (None, 2, 2, 256)        0         \n",
            " 2D)                                                             \n",
            "                                                                 \n",
            " flatten (Flatten)           (None, 1024)              0         \n",
            "                                                                 \n",
            " dense (Dense)               (None, 64)                65600     \n",
            "                                                                 \n",
            " dense_1 (Dense)             (None, 1)                 65        \n",
            "                                                                 \n",
            "=================================================================\n",
            "Total params: 250,273\n",
            "Trainable params: 250,273\n",
            "Non-trainable params: 0\n",
            "_________________________________________________________________\n"
          ]
        }
      ],
      "source": [
        "model.summary()"
      ]
    },
    {
      "cell_type": "code",
      "execution_count": null,
      "metadata": {
        "id": "afq0BbEekjR1"
      },
      "outputs": [],
      "source": [
        "model.compile(\n",
        "    optimizer=tf.keras.optimizers.Adam(0.001),\n",
        "    loss=tf.keras.losses.BinaryCrossentropy(from_logits=True),\n",
        "    metrics=['accuracy']\n",
        "    )"
      ]
    },
    {
      "cell_type": "code",
      "execution_count": null,
      "metadata": {
        "colab": {
          "base_uri": "https://localhost:8080/"
        },
        "id": "rfgGdeyslGU_",
        "outputId": "e838d4f3-e8b5-4f8b-af83-4c55802c0a7f"
      },
      "outputs": [
        {
          "output_type": "stream",
          "name": "stdout",
          "text": [
            "Epoch 1/10\n",
            "280/280 [==============================] - 80s 285ms/step - loss: 0.1990 - accuracy: 0.9242 - val_loss: 0.3875 - val_accuracy: 0.8682\n",
            "Epoch 2/10\n",
            "280/280 [==============================] - 77s 276ms/step - loss: 0.1804 - accuracy: 0.9331 - val_loss: 0.3638 - val_accuracy: 0.8704\n",
            "Epoch 3/10\n",
            "280/280 [==============================] - 78s 277ms/step - loss: 0.1764 - accuracy: 0.9337 - val_loss: 0.3996 - val_accuracy: 0.8717\n",
            "Epoch 4/10\n",
            "280/280 [==============================] - 77s 276ms/step - loss: 0.1706 - accuracy: 0.9335 - val_loss: 0.4198 - val_accuracy: 0.8795\n",
            "Epoch 5/10\n",
            "280/280 [==============================] - 78s 277ms/step - loss: 0.1589 - accuracy: 0.9408 - val_loss: 0.4845 - val_accuracy: 0.8754\n",
            "Epoch 6/10\n",
            "280/280 [==============================] - 78s 278ms/step - loss: 0.1506 - accuracy: 0.9431 - val_loss: 0.4936 - val_accuracy: 0.8812\n",
            "Epoch 7/10\n",
            "280/280 [==============================] - 78s 278ms/step - loss: 0.1404 - accuracy: 0.9483 - val_loss: 0.5371 - val_accuracy: 0.8779\n",
            "Epoch 8/10\n",
            "280/280 [==============================] - 78s 278ms/step - loss: 0.1407 - accuracy: 0.9473 - val_loss: 0.4698 - val_accuracy: 0.8726\n",
            "Epoch 9/10\n",
            "280/280 [==============================] - 78s 277ms/step - loss: 0.1398 - accuracy: 0.9485 - val_loss: 0.4755 - val_accuracy: 0.8749\n",
            "Epoch 10/10\n",
            "280/280 [==============================] - 78s 277ms/step - loss: 0.1238 - accuracy: 0.9550 - val_loss: 0.4884 - val_accuracy: 0.8728\n"
          ]
        }
      ],
      "source": [
        "history=model.fit(\n",
        "    train_ds,\n",
        "    validation_data=val_ds,\n",
        "    epochs=10\n",
        "\n",
        ")"
      ]
    },
    {
      "cell_type": "code",
      "execution_count": null,
      "metadata": {
        "colab": {
          "base_uri": "https://localhost:8080/"
        },
        "id": "uvBBDnEclTAf",
        "outputId": "99a92ad2-3fb9-49ae-8c9f-5f0f255bc92d"
      },
      "outputs": [
        {
          "output_type": "stream",
          "name": "stdout",
          "text": [
            "94/94 [==============================] - 35s 101ms/step - loss: 0.5121 - accuracy: 0.8644\n",
            "Loss:  0.5121160745620728\n",
            "Accuracy:  0.8643712997436523\n"
          ]
        }
      ],
      "source": [
        "loss, accuracy = model.evaluate(test_ds)\n",
        "\n",
        "print(\"Loss: \", loss)\n",
        "print(\"Accuracy: \", accuracy)"
      ]
    },
    {
      "cell_type": "code",
      "execution_count": null,
      "metadata": {
        "id": "PwB_qhrxqdFp"
      },
      "outputs": [],
      "source": [
        "import matplotlib.pyplot as plt \n",
        "history = history.history\n"
      ]
    },
    {
      "cell_type": "code",
      "execution_count": null,
      "metadata": {
        "id": "N7vizmubAZJO",
        "colab": {
          "base_uri": "https://localhost:8080/",
          "height": 336
        },
        "outputId": "df498c74-f91f-496a-d3ca-6c6e67e6bc2b"
      },
      "outputs": [
        {
          "output_type": "display_data",
          "data": {
            "text/plain": [
              "<Figure size 1080x360 with 2 Axes>"
            ],
            "image/png": "[encoded data removed]"
          },
          "metadata": {
            "needs_background": "light"
          }
        }
      ],
      "source": [
        "plt.figure(figsize=(15,5))\n",
        "plt.subplot(121)\n",
        "plt.title(\"Accuracy\")\n",
        "plt.plot(history[\"accuracy\"],label=\"train acc\")\n",
        "plt.plot(history[\"val_accuracy\"],label=\"val acc\")\n",
        "plt.legend()\n",
        "\n",
        "plt.subplot(122)\n",
        "plt.title(\"Loss\")\n",
        "plt.plot(history[\"loss\"],label=\"train loss\")\n",
        "plt.plot(history[\"val_loss\"],label=\"val loss\")\n",
        "plt.legend()\n",
        "\n",
        "plt.show()\n"
      ]
    },
    {
      "cell_type": "code",
      "source": [
        ""
      ],
      "metadata": {
        "id": "RyV16L8aJVpL"
      },
      "execution_count": null,
      "outputs": []
    }
  ],
  "metadata": {
    "accelerator": "GPU",
    "colab": {
      "collapsed_sections": [],
      "name": "Gender Prediction using 2D CNN.ipynb",
      "provenance": [],
      "include_colab_link": true
    },
    "kernelspec": {
      "display_name": "Python 3",
      "name": "python3"
    },
    "language_info": {
      "name": "python"
    }
  },
  "nbformat": 4,
  "nbformat_minor": 0
}